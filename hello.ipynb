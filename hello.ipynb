{
 "cells": [
  {
   "cell_type": "code",
   "execution_count": 1,
   "metadata": {},
   "outputs": [],
   "source": [
    "def outer_function(msg):\n",
    "    def inner_function():\n",
    "        print(msg)\n",
    "    return inner_function\n",
    "\n",
    "hi_func = outer_function('Hi')\n",
    "bye_func = outer_function('Bye')"
   ]
  },
  {
   "cell_type": "code",
   "execution_count": 2,
   "metadata": {},
   "outputs": [
    {
     "name": "stdout",
     "output_type": "stream",
     "text": [
      "Hi\n"
     ]
    }
   ],
   "source": [
    "hi_func()"
   ]
  },
  {
   "cell_type": "code",
   "execution_count": 4,
   "metadata": {},
   "outputs": [],
   "source": [
    "def decorator_function(original_function):\n",
    "    def wrapper_function():\n",
    "        return original_function()\n",
    "    return wrapper_function\n",
    "\n",
    "def display():\n",
    "    print('display function run')"
   ]
  },
  {
   "cell_type": "code",
   "execution_count": 5,
   "metadata": {},
   "outputs": [
    {
     "name": "stdout",
     "output_type": "stream",
     "text": [
      "display function run\n"
     ]
    }
   ],
   "source": [
    "decorated_display = decorator_function(display)\n",
    "decorated_display()"
   ]
  },
  {
   "cell_type": "code",
   "execution_count": 46,
   "metadata": {},
   "outputs": [],
   "source": [
    "def decorator_function(original_function):\n",
    "    def wrapper_function():\n",
    "        print('abc')\n",
    "        return original_function\n",
    "    return wrapper_function\n",
    "\n",
    "def display_1():\n",
    "    print('display_1 executed')\n",
    "    \n",
    "def display_2():\n",
    "    print('display_2 executed')"
   ]
  },
  {
   "cell_type": "code",
   "execution_count": 47,
   "metadata": {},
   "outputs": [],
   "source": [
    "display_1 = decorator_function(display_1)"
   ]
  },
  {
   "cell_type": "code",
   "execution_count": 50,
   "metadata": {},
   "outputs": [
    {
     "name": "stdout",
     "output_type": "stream",
     "text": [
      "abc\n"
     ]
    },
    {
     "data": {
      "text/plain": [
       "<function __main__.display_1>"
      ]
     },
     "execution_count": 50,
     "metadata": {},
     "output_type": "execute_result"
    }
   ],
   "source": [
    "display_1()"
   ]
  },
  {
   "cell_type": "code",
   "execution_count": 51,
   "metadata": {},
   "outputs": [],
   "source": [
    "aa = {'abc': 'ddd', \"ggg\": 'fff'}"
   ]
  },
  {
   "cell_type": "code",
   "execution_count": 52,
   "metadata": {},
   "outputs": [
    {
     "data": {
      "text/plain": [
       "'ddd'"
      ]
     },
     "execution_count": 52,
     "metadata": {},
     "output_type": "execute_result"
    }
   ],
   "source": [
    "aa.get('abc')"
   ]
  },
  {
   "cell_type": "code",
   "execution_count": 53,
   "metadata": {},
   "outputs": [],
   "source": [
    "aa.get('abd')"
   ]
  },
  {
   "cell_type": "code",
   "execution_count": 54,
   "metadata": {},
   "outputs": [
    {
     "data": {
      "text/plain": [
       "''"
      ]
     },
     "execution_count": 54,
     "metadata": {},
     "output_type": "execute_result"
    }
   ],
   "source": [
    "aa.get('abd', '')"
   ]
  },
  {
   "cell_type": "code",
   "execution_count": 55,
   "metadata": {},
   "outputs": [],
   "source": [
    "class Employee(object):\n",
    "    raise_amount = 1.1\n",
    "    \n",
    "    def __init__(self, first, last, pay):\n",
    "        self.first = first\n",
    "        self.last = last\n",
    "        self.pay = pay\n",
    "        self.email = first.lower() + '.' + last.lower() + '@schoolofweb.net'\n",
    "        \n",
    "    def apply_raise(self):\n",
    "        self.pay = int(self.pay * self.raise_amount)\n",
    "        \n",
    "    def full_name(self):\n",
    "        return '{} {}'.format(self.first, self.last)\n",
    "    \n",
    "    def get_pay(self):\n",
    "        return '{} | {}'.format(self.full_name(), self.pay)"
   ]
  },
  {
   "cell_type": "code",
   "execution_count": 56,
   "metadata": {},
   "outputs": [],
   "source": [
    "class Employee(object):\n",
    "    raise_amount = 1.1\n",
    "    \n",
    "    def __init__(self, first, last, pay):\n",
    "        self.first = first\n",
    "        self.last = last\n",
    "        self.pay = pay\n",
    "        \n",
    "    def apply_raise(self):\n",
    "        self.pay = int(self.pay * self.raise_amount)\n",
    "        \n",
    "    def full_name(self):\n",
    "        return '{} {}'.format(self.first, self.last)\n",
    "    \n",
    "    def get_pay(self):\n",
    "        return '{} {}'.format(self.full_name(), self.pay)\n",
    "    \n",
    "    @classmethod\n",
    "    def change_raise_amount(cls, amount):\n",
    "        while amount < 1:\n",
    "            print('warning')\n",
    "            amount = input('input please')\n",
    "            amount = float(amount)\n",
    "        cls.raise_amount = amount"
   ]
  },
  {
   "cell_type": "code",
   "execution_count": 57,
   "metadata": {},
   "outputs": [],
   "source": [
    "class Person(object):\n",
    "    def __init__(self, year, month, day, sex):\n",
    "        self.year = year\n",
    "        self.month = month\n",
    "        self.day = day\n",
    "        self.sex = sex\n",
    "        \n",
    "    def __str__(self):\n",
    "        return '{} {} {} {}'.format(self.year, self.month, self.day, self.sex)\n",
    "    \n",
    "def ssn_parser(ssn):\n",
    "    front, back = ssn.split('-')\n",
    "    sex = back[0]\n",
    "    \n",
    "    if sex == '1' or sex == '2':\n",
    "        year = '19' + front[:2]\n",
    "    else:\n",
    "        year = '20' + front[:2]\n",
    "    \n",
    "    if (int(sex) %2 ) == 0:\n",
    "        sex = 'female'\n",
    "    else:\n",
    "        sex = 'male'\n",
    "    \n",
    "    month = front[2:4]\n",
    "    day = front[4:6]\n",
    "    \n",
    "    return year, month, day, sex"
   ]
  },
  {
   "cell_type": "code",
   "execution_count": 1,
   "metadata": {},
   "outputs": [],
   "source": [
    "class Person(object):\n",
    "    my_class_var = 'sanghee'\n",
    "    \n",
    "    def __init__(self, year, month, day, sex):\n",
    "        self.year = year\n",
    "        self.month = month\n",
    "        self.day = day\n",
    "        self.sex = sex\n",
    "        \n",
    "    @classmethod\n",
    "    def ssn_constructor(cls, ssn):\n",
    "        front, back = ssn.split('-')\n",
    "        sex = back[0]\n",
    "\n",
    "        if sex == '1' or sex == '2':\n",
    "            year = '19' + front[:2]\n",
    "        else:\n",
    "            year = '20' + front[:2]\n",
    "\n",
    "        if (int(sex) %2 ) == 0:\n",
    "            sex = 'female'\n",
    "        else:\n",
    "            sex = 'male'\n",
    "\n",
    "        month = front[2:4]\n",
    "        day = front[4:6]\n",
    "\n",
    "        return cls(year, month, day, sex)\n",
    "    \n",
    "    @staticmethod\n",
    "    def is_work_day(day):\n",
    "        if day.weekday() == 5 or day.weekday() == 6:\n",
    "            return False\n",
    "        return True"
   ]
  },
  {
   "cell_type": "code",
   "execution_count": 2,
   "metadata": {},
   "outputs": [],
   "source": [
    "class MyInt(int):\n",
    "    pass"
   ]
  },
  {
   "cell_type": "code",
   "execution_count": 3,
   "metadata": {},
   "outputs": [],
   "source": [
    "my_num = MyInt(5)"
   ]
  },
  {
   "cell_type": "code",
   "execution_count": 4,
   "metadata": {},
   "outputs": [
    {
     "name": "stdout",
     "output_type": "stream",
     "text": [
      "['__abs__', '__add__', '__and__', '__bool__', '__ceil__', '__class__', '__delattr__', '__dict__', '__dir__', '__divmod__', '__doc__', '__eq__', '__float__', '__floor__', '__floordiv__', '__format__', '__ge__', '__getattribute__', '__getnewargs__', '__gt__', '__hash__', '__index__', '__init__', '__init_subclass__', '__int__', '__invert__', '__le__', '__lshift__', '__lt__', '__mod__', '__module__', '__mul__', '__ne__', '__neg__', '__new__', '__or__', '__pos__', '__pow__', '__radd__', '__rand__', '__rdivmod__', '__reduce__', '__reduce_ex__', '__repr__', '__rfloordiv__', '__rlshift__', '__rmod__', '__rmul__', '__ror__', '__round__', '__rpow__', '__rrshift__', '__rshift__', '__rsub__', '__rtruediv__', '__rxor__', '__setattr__', '__sizeof__', '__str__', '__sub__', '__subclasshook__', '__truediv__', '__trunc__', '__xor__', 'bit_length', 'conjugate', 'denominator', 'from_bytes', 'imag', 'numerator', 'real', 'to_bytes']\n"
     ]
    }
   ],
   "source": [
    "print(dir(my_num))"
   ]
  },
  {
   "cell_type": "code",
   "execution_count": 5,
   "metadata": {},
   "outputs": [
    {
     "data": {
      "text/plain": [
       "10"
      ]
     },
     "execution_count": 5,
     "metadata": {},
     "output_type": "execute_result"
    }
   ],
   "source": [
    "my_num.__add__(5)"
   ]
  },
  {
   "cell_type": "code",
   "execution_count": 6,
   "metadata": {},
   "outputs": [],
   "source": [
    "class MyInt(int):\n",
    "    def __add__(self, other):\n",
    "        return '{} plus {} equals {}'.format(self.real, other.real, self.real+other.real)"
   ]
  },
  {
   "cell_type": "code",
   "execution_count": 7,
   "metadata": {},
   "outputs": [],
   "source": [
    "my_num = MyInt(5)"
   ]
  },
  {
   "cell_type": "code",
   "execution_count": 8,
   "metadata": {},
   "outputs": [
    {
     "data": {
      "text/plain": [
       "'5 plus 5 equals 10'"
      ]
     },
     "execution_count": 8,
     "metadata": {},
     "output_type": "execute_result"
    }
   ],
   "source": [
    "my_num+5"
   ]
  },
  {
   "cell_type": "code",
   "execution_count": 12,
   "metadata": {},
   "outputs": [],
   "source": [
    "class Food(object):\n",
    "    def __init__(self, name, price):\n",
    "        self.name = name\n",
    "        self.price = price\n",
    "        \n",
    "    def __str__(self):\n",
    "        return('item: {}, price {}'.format(self.name, self.price))"
   ]
  },
  {
   "cell_type": "code",
   "execution_count": 13,
   "metadata": {},
   "outputs": [],
   "source": [
    "food_1 = Food('icecream', 3000)"
   ]
  },
  {
   "cell_type": "code",
   "execution_count": 14,
   "metadata": {},
   "outputs": [
    {
     "name": "stdout",
     "output_type": "stream",
     "text": [
      "item: icecream, price 3000\n"
     ]
    }
   ],
   "source": [
    "print(food_1)"
   ]
  },
  {
   "cell_type": "code",
   "execution_count": 15,
   "metadata": {},
   "outputs": [],
   "source": [
    "def square(x):\n",
    "    return x*x\n",
    "\n",
    "def cube(x):\n",
    "    return x*x*x\n",
    "\n",
    "def quad(x):\n",
    "    return x*x*x*x\n",
    "\n",
    "def my_map(func, arg_list):\n",
    "    result = []\n",
    "    for i in arg_list:\n",
    "        result.append(func(i))\n",
    "    return result"
   ]
  },
  {
   "cell_type": "code",
   "execution_count": 16,
   "metadata": {},
   "outputs": [],
   "source": [
    "num_list = [1,2,3,4,5]"
   ]
  },
  {
   "cell_type": "code",
   "execution_count": 17,
   "metadata": {},
   "outputs": [],
   "source": [
    "squares = my_map(square, num_list)"
   ]
  },
  {
   "cell_type": "code",
   "execution_count": 18,
   "metadata": {},
   "outputs": [],
   "source": [
    "class Unit(object):\n",
    "    def __init__(self, rank, size, life):\n",
    "        self.name = self.__class__.__name__\n",
    "        self.rank = rank\n",
    "        self.size = size\n",
    "        self.life = life\n",
    "        \n",
    "    def show_status(self):\n",
    "        print('이름: {}'.format(self.name))\n",
    "        print('등급: {}'.format(self.rank))\n",
    "        print('사이즈: {}'.format(self.size))\n",
    "        print('라이프: {}'.format(self.life))"
   ]
  },
  {
   "cell_type": "code",
   "execution_count": 19,
   "metadata": {},
   "outputs": [],
   "source": [
    "class Goblin(Unit):\n",
    "    pass"
   ]
  },
  {
   "cell_type": "code",
   "execution_count": 20,
   "metadata": {},
   "outputs": [],
   "source": [
    "goblin_1 = Goblin('병사', 'Small', 100)"
   ]
  },
  {
   "cell_type": "code",
   "execution_count": 21,
   "metadata": {},
   "outputs": [
    {
     "name": "stdout",
     "output_type": "stream",
     "text": [
      "이름: Goblin\n",
      "등급: 병사\n",
      "사이즈: Small\n",
      "라이프: 100\n"
     ]
    }
   ],
   "source": [
    "goblin_1.show_status()"
   ]
  },
  {
   "cell_type": "code",
   "execution_count": 22,
   "metadata": {},
   "outputs": [
    {
     "name": "stdout",
     "output_type": "stream",
     "text": [
      "{'__module__': '__main__', '__doc__': None}\n"
     ]
    }
   ],
   "source": [
    "print(Goblin.__dict__)"
   ]
  },
  {
   "cell_type": "code",
   "execution_count": 23,
   "metadata": {},
   "outputs": [
    {
     "name": "stdout",
     "output_type": "stream",
     "text": [
      "Help on class Goblin in module __main__:\n",
      "\n",
      "class Goblin(Unit)\n",
      " |  Method resolution order:\n",
      " |      Goblin\n",
      " |      Unit\n",
      " |      builtins.object\n",
      " |  \n",
      " |  Methods inherited from Unit:\n",
      " |  \n",
      " |  __init__(self, rank, size, life)\n",
      " |      Initialize self.  See help(type(self)) for accurate signature.\n",
      " |  \n",
      " |  show_status(self)\n",
      " |  \n",
      " |  ----------------------------------------------------------------------\n",
      " |  Data descriptors inherited from Unit:\n",
      " |  \n",
      " |  __dict__\n",
      " |      dictionary for instance variables (if defined)\n",
      " |  \n",
      " |  __weakref__\n",
      " |      list of weak references to the object (if defined)\n",
      "\n"
     ]
    }
   ],
   "source": [
    "help(Goblin)"
   ]
  },
  {
   "cell_type": "code",
   "execution_count": 24,
   "metadata": {},
   "outputs": [
    {
     "name": "stdout",
     "output_type": "stream",
     "text": [
      "['__class__', '__delattr__', '__dict__', '__dir__', '__doc__', '__eq__', '__format__', '__ge__', '__getattribute__', '__gt__', '__hash__', '__init__', '__init_subclass__', '__le__', '__lt__', '__module__', '__ne__', '__new__', '__reduce__', '__reduce_ex__', '__repr__', '__setattr__', '__sizeof__', '__str__', '__subclasshook__', '__weakref__', 'show_status']\n"
     ]
    }
   ],
   "source": [
    "print(dir(Goblin))"
   ]
  },
  {
   "cell_type": "code",
   "execution_count": 29,
   "metadata": {},
   "outputs": [],
   "source": [
    "class Goblin(Unit):\n",
    "    def __init__(self, rank, size, life, attack_type, damage):\n",
    "        super(Goblin, self).__init__(rank, size, life)\n",
    "        self.attack_type = attack_type\n",
    "        self.damage = damage\n",
    "        \n",
    "    def show_status(self):\n",
    "        super(Goblin, self).show_status()\n",
    "        print('공격타입: {}'.format(self.attack_type))\n",
    "        print('데미지: {}'.format(self.damage))\n",
    "        \n",
    "    def attack(self):\n",
    "        print('[{}]이 공격합니다! 상대방 데미지({})'.format(self.name, self.damage))"
   ]
  },
  {
   "cell_type": "code",
   "execution_count": 27,
   "metadata": {},
   "outputs": [],
   "source": [
    "goblin_1 = Goblin('병사', 'Small', 100, '근접 공격')"
   ]
  },
  {
   "cell_type": "code",
   "execution_count": 28,
   "metadata": {},
   "outputs": [
    {
     "name": "stdout",
     "output_type": "stream",
     "text": [
      "이름: Goblin\n",
      "등급: 병사\n",
      "사이즈: Small\n",
      "라이프: 100\n",
      "공격타입: 근접 공격\n"
     ]
    }
   ],
   "source": [
    "goblin_1.show_status()"
   ]
  },
  {
   "cell_type": "code",
   "execution_count": 31,
   "metadata": {},
   "outputs": [],
   "source": [
    "class SphereGoblin(Goblin):\n",
    "    def __init__(self, rank, size, life, attack_type, damage, sphere_type):\n",
    "        super(SphereGoblin, self).__init__(rank, size, life, attack_type, damage)\n",
    "        self.sphere_type = sphere_type\n",
    "        \n",
    "    def show_status(self):\n",
    "        super(SphereGoblin, self).show_status()\n",
    "        print('창 타입: {}'.format(self.sphere_type))"
   ]
  },
  {
   "cell_type": "code",
   "execution_count": 32,
   "metadata": {},
   "outputs": [],
   "source": [
    "sphere_goblin_1 = SphereGoblin('병사', 'Small', 100, '레인지 공격', 10, '긴 창')"
   ]
  },
  {
   "cell_type": "code",
   "execution_count": 33,
   "metadata": {},
   "outputs": [
    {
     "name": "stdout",
     "output_type": "stream",
     "text": [
      "이름: SphereGoblin\n",
      "등급: 병사\n",
      "사이즈: Small\n",
      "라이프: 100\n",
      "공격타입: 레인지 공격\n",
      "데미지: 10\n",
      "창 타입: 긴 창\n"
     ]
    }
   ],
   "source": [
    "sphere_goblin_1.show_status()"
   ]
  },
  {
   "cell_type": "code",
   "execution_count": 39,
   "metadata": {},
   "outputs": [],
   "source": [
    "class Hero(Unit):\n",
    "    def __init__(self, rank, size, life, goblins=None):\n",
    "        super(Hero, self).__init__(rank, size, life)\n",
    "        if goblins is None:\n",
    "            self.goblins = []\n",
    "        else:\n",
    "            self.goblins = goblins\n",
    "            \n",
    "    def show_own_goblins(self):\n",
    "        num_of_goblins = len([x for x in self.goblins if isinstance(x, Goblin)])\n",
    "        num_of_sphere_goblins = len([x for x in self.goblins if isinstance(x, SphereGoblin)])\n",
    "        print('Goblin {} SphereGoblin{}'.format(num_of_goblins, num_of_sphere_goblins))\n",
    "        \n",
    "    def make_goblins_attack(self):\n",
    "        for goblin in self.goblins:\n",
    "            goblin.attack()"
   ]
  },
  {
   "cell_type": "code",
   "execution_count": 40,
   "metadata": {},
   "outputs": [],
   "source": [
    "goblin_1 = Goblin('병사', 'Small', 100, '근접 공격', 15)\n",
    "goblin_2 = Goblin('병사', 'Small', 100, '근접 공격', 15)"
   ]
  },
  {
   "cell_type": "code",
   "execution_count": 41,
   "metadata": {},
   "outputs": [],
   "source": [
    "sphere_goblin_1 = SphereGoblin('병사', 'Small', 100, '레인지 공격', 10, '긴 창')"
   ]
  },
  {
   "cell_type": "code",
   "execution_count": 42,
   "metadata": {},
   "outputs": [],
   "source": [
    "hero_1 = Hero('영웅', 'Big', 300, [goblin_1, goblin_2, sphere_goblin_1])"
   ]
  },
  {
   "cell_type": "code",
   "execution_count": 43,
   "metadata": {},
   "outputs": [
    {
     "name": "stdout",
     "output_type": "stream",
     "text": [
      "Goblin 3 SphereGoblin1\n"
     ]
    }
   ],
   "source": [
    "hero_1.show_own_goblins()"
   ]
  },
  {
   "cell_type": "code",
   "execution_count": 45,
   "metadata": {},
   "outputs": [
    {
     "name": "stdout",
     "output_type": "stream",
     "text": [
      "[Goblin]이 공격합니다! 상대방 데미지(15)\n",
      "[Goblin]이 공격합니다! 상대방 데미지(15)\n",
      "[SphereGoblin]이 공격합니다! 상대방 데미지(10)\n"
     ]
    }
   ],
   "source": [
    "hero_1.make_goblins_attack()"
   ]
  },
  {
   "cell_type": "code",
   "execution_count": 46,
   "metadata": {},
   "outputs": [
    {
     "data": {
      "text/plain": [
       "True"
      ]
     },
     "execution_count": 46,
     "metadata": {},
     "output_type": "execute_result"
    }
   ],
   "source": [
    "isinstance(goblin_1, Goblin)"
   ]
  },
  {
   "cell_type": "code",
   "execution_count": 47,
   "metadata": {},
   "outputs": [
    {
     "data": {
      "text/plain": [
       "__main__.Goblin"
      ]
     },
     "execution_count": 47,
     "metadata": {},
     "output_type": "execute_result"
    }
   ],
   "source": [
    "type(goblin_1)"
   ]
  },
  {
   "cell_type": "code",
   "execution_count": 68,
   "metadata": {},
   "outputs": [],
   "source": [
    "def logger(msg):\n",
    "    def log_message():\n",
    "        print('Log: ', msg)\n",
    "    return log_message"
   ]
  },
  {
   "cell_type": "code",
   "execution_count": 69,
   "metadata": {},
   "outputs": [],
   "source": [
    "log_hi = logger('hi')"
   ]
  },
  {
   "cell_type": "code",
   "execution_count": 70,
   "metadata": {},
   "outputs": [
    {
     "name": "stdout",
     "output_type": "stream",
     "text": [
      "Log:  hi\n"
     ]
    }
   ],
   "source": [
    "log_hi()"
   ]
  },
  {
   "cell_type": "code",
   "execution_count": 73,
   "metadata": {},
   "outputs": [],
   "source": [
    "def simple_html_tag(tag, msg):\n",
    "    print('<{0}>{1}<{0}>'.format(tag, msg))"
   ]
  },
  {
   "cell_type": "code",
   "execution_count": 74,
   "metadata": {},
   "outputs": [
    {
     "name": "stdout",
     "output_type": "stream",
     "text": [
      "<h1>심플 헤딩 타이틀<h1>\n"
     ]
    }
   ],
   "source": [
    "simple_html_tag('h1', '심플 헤딩 타이틀')"
   ]
  },
  {
   "cell_type": "code",
   "execution_count": 75,
   "metadata": {},
   "outputs": [
    {
     "name": "stdout",
     "output_type": "stream",
     "text": [
      "------------------------------\n"
     ]
    }
   ],
   "source": [
    "print('-'*30)"
   ]
  },
  {
   "cell_type": "code",
   "execution_count": 76,
   "metadata": {},
   "outputs": [],
   "source": [
    "def html_tag(tag):\n",
    "    def wrap_text(msg):\n",
    "        print('<{0}>{1}<{0}>'.format(tag, msg))\n",
    "    return wrap_text"
   ]
  },
  {
   "cell_type": "code",
   "execution_count": 77,
   "metadata": {},
   "outputs": [
    {
     "name": "stdout",
     "output_type": "stream",
     "text": [
      "<function html_tag.<locals>.wrap_text at 0x10486ce18>\n"
     ]
    }
   ],
   "source": [
    "print_h1 = html_tag('h1')\n",
    "print(print_h1)"
   ]
  },
  {
   "cell_type": "code",
   "execution_count": 79,
   "metadata": {},
   "outputs": [
    {
     "name": "stdout",
     "output_type": "stream",
     "text": [
      "<h1>kkk<h1>\n"
     ]
    }
   ],
   "source": [
    "print_h1('kkk')"
   ]
  },
  {
   "cell_type": "code",
   "execution_count": 80,
   "metadata": {},
   "outputs": [],
   "source": [
    "class Hero(Unit):\n",
    "    def __init__(self, rank, size, life, goblins=None):\n",
    "        super(Hero, self).__init__(rank, size, life)\n",
    "        if goblins is None:\n",
    "            self.goblins = []\n",
    "        else:\n",
    "            self.goblins = goblins\n",
    "            \n",
    "    def show_own_goblins(self):\n",
    "        num_of_goblins = len([x for x in self.goblins if isinstance(x, Goblin)])\n",
    "        num_of_sphere_goblins = len([x for x in self.goblins if isinstance(x, SphereGoblin)])\n",
    "        print('Goblin {} SphereGoblin {}'.format(num_of_goblins, num_of_sphere_goblins))\n",
    "        \n",
    "    def make_goblins_attack(self):\n",
    "        for goblin in self.goblins:\n",
    "            goblin.attack()\n",
    "            \n",
    "    def add_goblins(self, new_goblins):\n",
    "        for goblin in new_goblins:\n",
    "            if goblin not in self.goblins:\n",
    "                self.goblins.append(goblin)\n",
    "            else:\n",
    "                print('이미 추가된 고블린')\n",
    "                \n",
    "    def remove_goblins(self, old_goblins):\n",
    "        for goblin in old_goblins:\n",
    "            try:\n",
    "                self.goblins.remove(goblin)\n",
    "            except:\n",
    "                print('{}을 소유하고 있지 않습니다.'.format(goblin))\n",
    "                "
   ]
  },
  {
   "cell_type": "code",
   "execution_count": 1,
   "metadata": {},
   "outputs": [],
   "source": [
    "def square_numbers(nums):\n",
    "    result = []\n",
    "    for i in nums:\n",
    "        result.append(i * i)\n",
    "    return result"
   ]
  },
  {
   "cell_type": "code",
   "execution_count": 2,
   "metadata": {},
   "outputs": [],
   "source": [
    "my_nums = square_numbers([1,2,3,4,5])"
   ]
  },
  {
   "cell_type": "code",
   "execution_count": 3,
   "metadata": {},
   "outputs": [
    {
     "name": "stdout",
     "output_type": "stream",
     "text": [
      "[1, 4, 9, 16, 25]\n"
     ]
    }
   ],
   "source": [
    "print(my_nums)"
   ]
  },
  {
   "cell_type": "code",
   "execution_count": 4,
   "metadata": {},
   "outputs": [],
   "source": [
    "def square_numbers(nums):\n",
    "    for i in nums:\n",
    "        yield i * i"
   ]
  },
  {
   "cell_type": "code",
   "execution_count": 5,
   "metadata": {},
   "outputs": [],
   "source": [
    "my_nums = square_numbers([1,2,3,4,5])"
   ]
  },
  {
   "cell_type": "code",
   "execution_count": 6,
   "metadata": {},
   "outputs": [
    {
     "data": {
      "text/plain": [
       "1"
      ]
     },
     "execution_count": 6,
     "metadata": {},
     "output_type": "execute_result"
    }
   ],
   "source": [
    "next(my_nums)"
   ]
  },
  {
   "cell_type": "code",
   "execution_count": null,
   "metadata": {},
   "outputs": [],
   "source": []
  }
 ],
 "metadata": {
  "kernelspec": {
   "display_name": "Python 3",
   "language": "python",
   "name": "python3"
  },
  "language_info": {
   "codemirror_mode": {
    "name": "ipython",
    "version": 3
   },
   "file_extension": ".py",
   "mimetype": "text/x-python",
   "name": "python",
   "nbconvert_exporter": "python",
   "pygments_lexer": "ipython3",
   "version": "3.6.4"
  }
 },
 "nbformat": 4,
 "nbformat_minor": 2
}
